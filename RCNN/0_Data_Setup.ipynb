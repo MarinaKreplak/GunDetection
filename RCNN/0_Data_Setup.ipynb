{
 "cells": [
  {
   "cell_type": "markdown",
   "metadata": {},
   "source": [
    "We are done with annotating our data. Now what?"
   ]
  },
  {
   "cell_type": "markdown",
   "metadata": {},
   "source": [
    "# Let's first create a folder structure for our data"
   ]
  },
  {
   "cell_type": "code",
   "execution_count": 2,
   "metadata": {},
   "outputs": [
    {
     "name": "stdout",
     "output_type": "stream",
     "text": [
      "mkdir: cannot create directory ‘procdata’: File exists\n",
      "mkdir: cannot create directory ‘procdata/val’: File exists\n",
      "mkdir: cannot create directory ‘procdata/train’: File exists\n"
     ]
    },
    {
     "ename": "KeyError",
     "evalue": "'IMG_7158.JPG'",
     "output_type": "error",
     "traceback": [
      "\u001b[0;31m---------------------------------------------------------------------------\u001b[0m",
      "\u001b[0;31mKeyError\u001b[0m                                  Traceback (most recent call last)",
      "\u001b[0;32m<ipython-input-2-faacc66fcd81>\u001b[0m in \u001b[0;36m<module>\u001b[0;34m\u001b[0m\n\u001b[1;32m     33\u001b[0m         \u001b[0mos\u001b[0m\u001b[0;34m.\u001b[0m\u001b[0msystem\u001b[0m\u001b[0;34m(\u001b[0m\u001b[0;34m\"cp \"\u001b[0m\u001b[0;34m+\u001b[0m \u001b[0mimg\u001b[0m \u001b[0;34m+\u001b[0m \u001b[0;34m\" procdata/train/\"\u001b[0m\u001b[0;34m)\u001b[0m\u001b[0;34m\u001b[0m\u001b[0;34m\u001b[0m\u001b[0m\n\u001b[1;32m     34\u001b[0m         \u001b[0mimg\u001b[0m \u001b[0;34m=\u001b[0m \u001b[0mimg\u001b[0m\u001b[0;34m.\u001b[0m\u001b[0msplit\u001b[0m\u001b[0;34m(\u001b[0m\u001b[0;34m\"/\"\u001b[0m\u001b[0;34m)\u001b[0m\u001b[0;34m[\u001b[0m\u001b[0;34m-\u001b[0m\u001b[0;36m1\u001b[0m\u001b[0;34m]\u001b[0m\u001b[0;34m\u001b[0m\u001b[0;34m\u001b[0m\u001b[0m\n\u001b[0;32m---> 35\u001b[0;31m         \u001b[0mtrain_annotations\u001b[0m\u001b[0;34m[\u001b[0m\u001b[0mimg\u001b[0m\u001b[0;34m]\u001b[0m \u001b[0;34m=\u001b[0m \u001b[0mcleaned_annotations\u001b[0m\u001b[0;34m[\u001b[0m\u001b[0mimg\u001b[0m\u001b[0;34m]\u001b[0m\u001b[0;34m\u001b[0m\u001b[0;34m\u001b[0m\u001b[0m\n\u001b[0m\u001b[1;32m     36\u001b[0m \u001b[0;34m\u001b[0m\u001b[0m\n\u001b[1;32m     37\u001b[0m \u001b[0;31m# put different annotations in different folders\u001b[0m\u001b[0;34m\u001b[0m\u001b[0;34m\u001b[0m\u001b[0;34m\u001b[0m\u001b[0m\n",
      "\u001b[0;31mKeyError\u001b[0m: 'IMG_7158.JPG'"
     ]
    }
   ],
   "source": [
    "from random import random\n",
    "import os\n",
    "from glob import glob\n",
    "import json\n",
    "\n",
    "# Path to your images\n",
    "image_paths = glob(\"data/*\")\n",
    "#Path to your annotations from VIA tool\n",
    "annotation_file = 'via_region_data.json'\n",
    "\n",
    "#clean up the annotations a little\n",
    "annotations = json.load(open(annotation_file))\n",
    "cleaned_annotations = {}\n",
    "for k,v in annotations['_via_img_metadata'].items():\n",
    "    cleaned_annotations[v['filename']] = v\n",
    "\n",
    "# create train and validation directories\n",
    "! mkdir procdata\n",
    "! mkdir procdata/val\n",
    "! mkdir procdata/train\n",
    "\n",
    "train_annotations = {}\n",
    "valid_annotations = {}\n",
    "\n",
    "# 20% of images in validation folder\n",
    "for img in image_paths:\n",
    "    # Image goes to Validation folder\n",
    "    if random()<0.3:\n",
    "        os.system(\"cp \"+ img + \" procdata/val/\")\n",
    "        img = img.split(\"/\")[-1]\n",
    "        valid_annotations[img] = cleaned_annotations[img]\n",
    "    else:\n",
    "        os.system(\"cp \"+ img + \" procdata/train/\")\n",
    "        img = img.split(\"/\")[-1]\n",
    "        train_annotations[img] = cleaned_annotations[img]\n",
    "\n",
    "# put different annotations in different folders\n",
    "with open('procdata/val/via_region_data.json', 'w') as fp:\n",
    "    json.dump(valid_annotations, fp)\n",
    "with open('procdata/train/via_region_data.json', 'w') as fp:\n",
    "    json.dump(train_annotations, fp)"
   ]
  },
  {
   "cell_type": "code",
   "execution_count": 7,
   "metadata": {},
   "outputs": [],
   "source": []
  },
  {
   "cell_type": "code",
   "execution_count": null,
   "metadata": {},
   "outputs": [],
   "source": []
  }
 ],
 "metadata": {
  "kernelspec": {
   "display_name": "Python 3",
   "language": "python",
   "name": "python3"
  },
  "language_info": {
   "codemirror_mode": {
    "name": "ipython",
    "version": 3
   },
   "file_extension": ".py",
   "mimetype": "text/x-python",
   "name": "python",
   "nbconvert_exporter": "python",
   "pygments_lexer": "ipython3",
   "version": "3.7.5"
  }
 },
 "nbformat": 4,
 "nbformat_minor": 4
}
